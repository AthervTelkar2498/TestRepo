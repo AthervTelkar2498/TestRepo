{
 "cells": [
  {
   "cell_type": "code",
   "execution_count": 12,
   "id": "4260a10f",
   "metadata": {},
   "outputs": [],
   "source": [
    "import numpy as np\n",
    "from sklearn.metrics import confusion_matrix, accuracy_score, precision_score, recall_score, f1_score\n",
    "import seaborn as sns\n",
    "import matplotlib.pyplot as plt"
   ]
  },
  {
   "cell_type": "code",
   "execution_count": 13,
   "id": "2d5e7e66",
   "metadata": {},
   "outputs": [],
   "source": [
    "# Input data (replace with your own true/pred values)\n",
    "true_labels = [1,1,0,0,1,0,1,0,1,0,1,0,1,1,1,0]\n",
    "pred_labels = [1,1,0,0,0,0,1,0,0,1,1,0,0,1,1,0]"
   ]
  },
  {
   "cell_type": "code",
   "execution_count": 14,
   "id": "fa56595a",
   "metadata": {},
   "outputs": [],
   "source": [
    "# Create confusion matrix\n",
    "cm = confusion_matrix(true_labels, pred_labels)"
   ]
  },
  {
   "cell_type": "code",
   "execution_count": 15,
   "id": "c45bed04",
   "metadata": {},
   "outputs": [
    {
     "name": "stdout",
     "output_type": "stream",
     "text": [
      "Confusion Matrix:\n",
      "[[6 1]\n",
      " [3 6]]\n"
     ]
    }
   ],
   "source": [
    "# Print confusion matrix\n",
    "print(\"Confusion Matrix:\")\n",
    "print(cm)"
   ]
  },
  {
   "cell_type": "code",
   "execution_count": 16,
   "id": "00879525",
   "metadata": {},
   "outputs": [],
   "source": [
    "# Calculate metrics\n",
    "accuracy = accuracy_score(true_labels, pred_labels)\n",
    "precision = precision_score(true_labels, pred_labels, zero_division=0)\n",
    "recall = recall_score(true_labels, pred_labels, zero_division=0)\n",
    "f1 = f1_score(true_labels, pred_labels, zero_division=0)"
   ]
  },
  {
   "cell_type": "code",
   "execution_count": 17,
   "id": "6e2a3406",
   "metadata": {},
   "outputs": [
    {
     "name": "stdout",
     "output_type": "stream",
     "text": [
      "\n",
      "Metrics:\n",
      "Accuracy  : 0.75\n",
      "Precision : 0.86\n",
      "Recall    : 0.67\n",
      "F1 Score  : 0.75\n"
     ]
    }
   ],
   "source": [
    "print(\"\\nMetrics:\")\n",
    "print(f\"Accuracy  : {accuracy:.2f}\")\n",
    "print(f\"Precision : {precision:.2f}\")\n",
    "print(f\"Recall    : {recall:.2f}\")\n",
    "print(f\"F1 Score  : {f1:.2f}\")"
   ]
  },
  {
   "cell_type": "code",
   "execution_count": 18,
   "id": "9c3626de",
   "metadata": {},
   "outputs": [
    {
     "data": {
      "image/png": "[encoded data removed]",
      "text/plain": [
       "<Figure size 640x480 with 2 Axes>"
      ]
     },
     "metadata": {},
     "output_type": "display_data"
    }
   ],
   "source": [
    "# Plot confusion matrix heatmap\n",
    "sns.heatmap(cm, annot=True, fmt=\"d\", cmap=\"Blues\",\n",
    "            xticklabels=[\"Pred 0\", \"Pred 1\"],\n",
    "            yticklabels=[\"Actual 0\", \"Actual 1\"])\n",
    "plt.title(\"Confusion Matrix Heatmap\")\n",
    "plt.ylabel(\"Actual\")\n",
    "plt.xlabel(\"Predicted\")\n",
    "plt.show()"
   ]
  },
  {
   "cell_type": "code",
   "execution_count": null,
   "id": "b45d38de",
   "metadata": {},
   "outputs": [],
   "source": []
  }
 ],
 "metadata": {
  "kernelspec": {
   "display_name": "Python 3",
   "language": "python",
   "name": "python3"
  },
  "language_info": {
   "codemirror_mode": {
    "name": "ipython",
    "version": 3
   },
   "file_extension": ".py",
   "mimetype": "text/x-python",
   "name": "python",
   "nbconvert_exporter": "python",
   "pygments_lexer": "ipython3",
   "version": "3.10.0"
  }
 },
 "nbformat": 4,
 "nbformat_minor": 5
}
